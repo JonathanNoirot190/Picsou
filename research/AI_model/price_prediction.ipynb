{
 "cells": [
  {
   "cell_type": "markdown",
   "metadata": {},
   "source": [
    "# Importing Required Packages"
   ]
  },
  {
   "cell_type": "code",
   "execution_count": 1,
   "metadata": {
    "ExecuteTime": {
     "end_time": "2020-10-01T13:08:06.200614Z",
     "start_time": "2020-10-01T13:07:37.491138Z"
    }
   },
   "outputs": [],
   "source": [
    "import pandas as pd\n",
    "import numpy as np\n",
    "import matplotlib.pyplot as plt\n",
    "import seaborn as sns\n",
    "\n",
    "from sklearn.preprocessing import MinMaxScaler, Normalizer\n",
    "\n",
    "from sklearn.metrics import mean_squared_error, mean_absolute_percentage_error, accuracy_score\n",
    "import json\n",
    "import warnings\n",
    "import os\n",
    "import ast\n",
    "\n",
    "sns.set()\n",
    "warnings.filterwarnings(\"ignore\")"
   ]
  },
  {
   "cell_type": "markdown",
   "metadata": {},
   "source": [
    "# Importing Dataset"
   ]
  },
  {
   "cell_type": "code",
   "execution_count": 2,
   "metadata": {
    "ExecuteTime": {
     "end_time": "2020-10-01T13:08:10.650204Z",
     "start_time": "2020-10-01T13:08:10.634205Z"
    }
   },
   "outputs": [
    {
     "name": "stdout",
     "output_type": "stream",
     "text": [
      "['DCR', 'CTSI', 'BTC', 'FTM', 'TRB', 'MANA', 'BAT', 'GXS', 'STORM', 'OMG', 'STMX', 'WAN', 'IOST', 'NMR', 'FET', 'ICX', 'MATIC', 'SKL', 'VET', 'KEEP', 'ALGO', 'DOGE', 'AXS', 'TRX', 'BNT', 'SAND', 'RUNE', 'HBAR', 'WAVES', 'FUN', 'ARPA', 'CREAM', 'ETH', 'DOCK', 'NEXO', 'SRM', 'LTO', 'ETC', 'BTS', 'DOT', 'VTH', 'EOS', 'ONT', 'AGLD', 'NKN', 'CRV', 'CELR', 'CRO', 'OCEAN', 'CAKE', 'MDX', 'CELO', 'SXP', 'RVN', 'QTUM', 'ZEC', 'AUDIO', 'ACH', 'AVAX', 'SUSHI', 'ANT', 'UMA', 'FIL', 'BAND', 'BEAM', 'ATOM', 'UNI', 'TOMO', 'ERD', 'ENJ', 'PERL', 'YFI', 'CHZ', 'FTT', 'SC', 'WBTC', 'API3', 'ZIL', 'BCH', 'CHR', 'AAVE', 'DENT', 'MKR', 'HT', 'REN', 'COTI', 'CEL', 'PNT', 'HIVE', '1INCH', 'HOT', 'AMP', 'LTC', 'ADA', 'SNX', 'IOTX', 'MITH', 'TFUEL', 'XMR', 'ARDR', 'RLY', 'PERP', 'LUNA', 'REQ', 'ZRX', 'NEO', 'MFT', 'WRX', 'HC', 'REEF', 'STORJ', 'NULS', 'BAL', 'STPT', 'SHIB', 'NANO', 'DASH', 'RLC', 'DATA', 'KSM', 'THETA', 'LINK', 'MTL', 'SOL', 'DGB', 'GRT', 'AION', 'XLM', 'COMP', 'DUSK', 'MTA', 'BNB', 'OGN', 'XTZ', 'KAVA', 'CQT', 'ANKR', 'TROY', 'XRP', 'XEM', 'KNC', 'LRC']\n"
     ]
    }
   ],
   "source": [
    "config_url = '../../hourlyAPI/config/coins/coins_to_track.json'\n",
    "f = open(config_url)\n",
    "tracked_coins = ast.literal_eval(json.load(f)['coins'])\n",
    "f.close()\n",
    "print(tracked_coins)"
   ]
  },
  {
   "cell_type": "code",
   "execution_count": 3,
   "metadata": {},
   "outputs": [],
   "source": [
    "def load_coin_dataset():\n",
    "    url = '../statistical_models/coins_history_indicators.csv'\n",
    "    start_train = \"2019-07-01 01:00:00\"\n",
    "    df = pd.read_csv(url, sep=\"\\t\")\n",
    "    df.set_index(\"Time\", inplace = True)\n",
    "    \n",
    "    df.sort_index(inplace=True)\n",
    "    df = df[start_train: df.index[-1]]\n",
    "\n",
    "    return df"
   ]
  },
  {
   "cell_type": "code",
   "execution_count": 4,
   "metadata": {},
   "outputs": [],
   "source": [
    "df = load_coin_dataset()"
   ]
  },
  {
   "cell_type": "code",
   "execution_count": 5,
   "metadata": {},
   "outputs": [
    {
     "name": "stdout",
     "output_type": "stream",
     "text": [
      "DCR\n",
      "DCR_SMA_5\n",
      "DCR_SMA_15\n",
      "DCR_SMA_ratio\n",
      "DCR_prev_close\n",
      "DCR_Diff\n",
      "DCR_Up\n",
      "DCR_Down\n",
      "DCR_avg_5up\n",
      "DCR_avg_5down\n",
      "DCR_avg_15up\n",
      "DCR_avg_15down\n",
      "DCR_RS_5\n",
      "DCR_RS_15\n",
      "DCR_RSI_5\n",
      "DCR_RSI_15\n",
      "DCR_RSI_ratio\n",
      "DCR_5Ewm\n",
      "DCR_15Ewm\n",
      "DCR_MACD\n",
      "DCR_15MA\n",
      "DCR_SD\n",
      "DCR_upperband\n",
      "DCR_lowerband\n",
      "DCR_RC\n",
      "25\n",
      "['', '_SMA_5', '_SMA_15', '_SMA_ratio', '_prev_close', '_Diff', '_Up', '_Down', '_avg_5up', '_avg_5down', '_avg_15up', '_avg_15down', '_RS_5', '_RS_15', '_RSI_5', '_RSI_15', '_RSI_ratio', '_5Ewm', '_15Ewm', '_MACD', '_15MA', '_SD', '_upperband', '_lowerband', '_RC']\n"
     ]
    }
   ],
   "source": [
    "col_names_list = []\n",
    "for coin in [tracked_coins[0]]:\n",
    "    n_col = 0\n",
    "    col = df.columns\n",
    "    for c in col:\n",
    "        if coin in c:\n",
    "            col_names_list.append(c.replace(coin, \"\"))\n",
    "            print(c)\n",
    "            n_col += 1\n",
    "print(n_col)\n",
    "print(col_names_list)"
   ]
  },
  {
   "cell_type": "code",
   "execution_count": 6,
   "metadata": {},
   "outputs": [
    {
     "data": {
      "text/html": [
       "<div>\n",
       "<style scoped>\n",
       "    .dataframe tbody tr th:only-of-type {\n",
       "        vertical-align: middle;\n",
       "    }\n",
       "\n",
       "    .dataframe tbody tr th {\n",
       "        vertical-align: top;\n",
       "    }\n",
       "\n",
       "    .dataframe thead th {\n",
       "        text-align: right;\n",
       "    }\n",
       "</style>\n",
       "<table border=\"1\" class=\"dataframe\">\n",
       "  <thead>\n",
       "    <tr style=\"text-align: right;\">\n",
       "      <th></th>\n",
       "      <th>DCR</th>\n",
       "      <th>CTSI</th>\n",
       "      <th>BTC</th>\n",
       "      <th>FTM</th>\n",
       "      <th>TRB</th>\n",
       "      <th>MANA</th>\n",
       "      <th>BAT</th>\n",
       "      <th>GXS</th>\n",
       "      <th>STORM</th>\n",
       "      <th>OMG</th>\n",
       "      <th>...</th>\n",
       "      <th>LRC_RSI_15</th>\n",
       "      <th>LRC_RSI_ratio</th>\n",
       "      <th>LRC_5Ewm</th>\n",
       "      <th>LRC_15Ewm</th>\n",
       "      <th>LRC_MACD</th>\n",
       "      <th>LRC_15MA</th>\n",
       "      <th>LRC_SD</th>\n",
       "      <th>LRC_upperband</th>\n",
       "      <th>LRC_lowerband</th>\n",
       "      <th>LRC_RC</th>\n",
       "    </tr>\n",
       "    <tr>\n",
       "      <th>Time</th>\n",
       "      <th></th>\n",
       "      <th></th>\n",
       "      <th></th>\n",
       "      <th></th>\n",
       "      <th></th>\n",
       "      <th></th>\n",
       "      <th></th>\n",
       "      <th></th>\n",
       "      <th></th>\n",
       "      <th></th>\n",
       "      <th></th>\n",
       "      <th></th>\n",
       "      <th></th>\n",
       "      <th></th>\n",
       "      <th></th>\n",
       "      <th></th>\n",
       "      <th></th>\n",
       "      <th></th>\n",
       "      <th></th>\n",
       "      <th></th>\n",
       "      <th></th>\n",
       "    </tr>\n",
       "  </thead>\n",
       "  <tbody>\n",
       "    <tr>\n",
       "      <th>2022-02-14 02:00:00</th>\n",
       "      <td>65.04</td>\n",
       "      <td>0.4286</td>\n",
       "      <td>41721.14</td>\n",
       "      <td>1.829</td>\n",
       "      <td>20.55</td>\n",
       "      <td>2.734</td>\n",
       "      <td>0.7780</td>\n",
       "      <td>0.8645</td>\n",
       "      <td>0.01085</td>\n",
       "      <td>4.511</td>\n",
       "      <td>...</td>\n",
       "      <td>23.500000</td>\n",
       "      <td>1.037234</td>\n",
       "      <td>0.896437</td>\n",
       "      <td>0.915213</td>\n",
       "      <td>0.018777</td>\n",
       "      <td>0.920260</td>\n",
       "      <td>0.023899</td>\n",
       "      <td>0.968058</td>\n",
       "      <td>0.872462</td>\n",
       "      <td>-0.077356</td>\n",
       "    </tr>\n",
       "    <tr>\n",
       "      <th>2022-02-14 03:00:00</th>\n",
       "      <td>65.21</td>\n",
       "      <td>0.4333</td>\n",
       "      <td>41934.92</td>\n",
       "      <td>1.849</td>\n",
       "      <td>20.75</td>\n",
       "      <td>2.756</td>\n",
       "      <td>0.7859</td>\n",
       "      <td>0.8689</td>\n",
       "      <td>0.01090</td>\n",
       "      <td>4.552</td>\n",
       "      <td>...</td>\n",
       "      <td>28.670842</td>\n",
       "      <td>0.828001</td>\n",
       "      <td>0.895391</td>\n",
       "      <td>0.912474</td>\n",
       "      <td>0.017083</td>\n",
       "      <td>0.916173</td>\n",
       "      <td>0.022824</td>\n",
       "      <td>0.961822</td>\n",
       "      <td>0.870525</td>\n",
       "      <td>-0.064215</td>\n",
       "    </tr>\n",
       "    <tr>\n",
       "      <th>2022-02-14 04:00:00</th>\n",
       "      <td>65.02</td>\n",
       "      <td>0.4321</td>\n",
       "      <td>41975.21</td>\n",
       "      <td>1.853</td>\n",
       "      <td>20.77</td>\n",
       "      <td>2.766</td>\n",
       "      <td>0.7878</td>\n",
       "      <td>0.8697</td>\n",
       "      <td>0.01091</td>\n",
       "      <td>4.531</td>\n",
       "      <td>...</td>\n",
       "      <td>28.871759</td>\n",
       "      <td>1.057800</td>\n",
       "      <td>0.894661</td>\n",
       "      <td>0.910065</td>\n",
       "      <td>0.015404</td>\n",
       "      <td>0.912153</td>\n",
       "      <td>0.021019</td>\n",
       "      <td>0.954192</td>\n",
       "      <td>0.870115</td>\n",
       "      <td>-0.063241</td>\n",
       "    </tr>\n",
       "    <tr>\n",
       "      <th>2022-02-14 05:00:00</th>\n",
       "      <td>64.44</td>\n",
       "      <td>0.4274</td>\n",
       "      <td>41792.13</td>\n",
       "      <td>1.843</td>\n",
       "      <td>20.62</td>\n",
       "      <td>2.724</td>\n",
       "      <td>0.7811</td>\n",
       "      <td>0.8659</td>\n",
       "      <td>0.01087</td>\n",
       "      <td>4.491</td>\n",
       "      <td>...</td>\n",
       "      <td>27.466667</td>\n",
       "      <td>0.802333</td>\n",
       "      <td>0.890240</td>\n",
       "      <td>0.906482</td>\n",
       "      <td>0.016241</td>\n",
       "      <td>0.907647</td>\n",
       "      <td>0.019764</td>\n",
       "      <td>0.947175</td>\n",
       "      <td>0.868118</td>\n",
       "      <td>-0.071233</td>\n",
       "    </tr>\n",
       "    <tr>\n",
       "      <th>2022-02-14 06:00:00</th>\n",
       "      <td>64.24</td>\n",
       "      <td>0.4355</td>\n",
       "      <td>42207.03</td>\n",
       "      <td>1.873</td>\n",
       "      <td>20.98</td>\n",
       "      <td>2.778</td>\n",
       "      <td>0.7919</td>\n",
       "      <td>0.8745</td>\n",
       "      <td>0.01097</td>\n",
       "      <td>4.541</td>\n",
       "      <td>...</td>\n",
       "      <td>35.997522</td>\n",
       "      <td>1.938938</td>\n",
       "      <td>0.892927</td>\n",
       "      <td>0.905459</td>\n",
       "      <td>0.012532</td>\n",
       "      <td>0.904633</td>\n",
       "      <td>0.017185</td>\n",
       "      <td>0.939003</td>\n",
       "      <td>0.870264</td>\n",
       "      <td>-0.047907</td>\n",
       "    </tr>\n",
       "  </tbody>\n",
       "</table>\n",
       "<p>5 rows × 3550 columns</p>\n",
       "</div>"
      ],
      "text/plain": [
       "                       DCR    CTSI       BTC    FTM    TRB   MANA     BAT  \\\n",
       "Time                                                                        \n",
       "2022-02-14 02:00:00  65.04  0.4286  41721.14  1.829  20.55  2.734  0.7780   \n",
       "2022-02-14 03:00:00  65.21  0.4333  41934.92  1.849  20.75  2.756  0.7859   \n",
       "2022-02-14 04:00:00  65.02  0.4321  41975.21  1.853  20.77  2.766  0.7878   \n",
       "2022-02-14 05:00:00  64.44  0.4274  41792.13  1.843  20.62  2.724  0.7811   \n",
       "2022-02-14 06:00:00  64.24  0.4355  42207.03  1.873  20.98  2.778  0.7919   \n",
       "\n",
       "                        GXS    STORM    OMG  ...  LRC_RSI_15  LRC_RSI_ratio  \\\n",
       "Time                                         ...                              \n",
       "2022-02-14 02:00:00  0.8645  0.01085  4.511  ...   23.500000       1.037234   \n",
       "2022-02-14 03:00:00  0.8689  0.01090  4.552  ...   28.670842       0.828001   \n",
       "2022-02-14 04:00:00  0.8697  0.01091  4.531  ...   28.871759       1.057800   \n",
       "2022-02-14 05:00:00  0.8659  0.01087  4.491  ...   27.466667       0.802333   \n",
       "2022-02-14 06:00:00  0.8745  0.01097  4.541  ...   35.997522       1.938938   \n",
       "\n",
       "                     LRC_5Ewm  LRC_15Ewm  LRC_MACD  LRC_15MA    LRC_SD  \\\n",
       "Time                                                                     \n",
       "2022-02-14 02:00:00  0.896437   0.915213  0.018777  0.920260  0.023899   \n",
       "2022-02-14 03:00:00  0.895391   0.912474  0.017083  0.916173  0.022824   \n",
       "2022-02-14 04:00:00  0.894661   0.910065  0.015404  0.912153  0.021019   \n",
       "2022-02-14 05:00:00  0.890240   0.906482  0.016241  0.907647  0.019764   \n",
       "2022-02-14 06:00:00  0.892927   0.905459  0.012532  0.904633  0.017185   \n",
       "\n",
       "                     LRC_upperband  LRC_lowerband    LRC_RC  \n",
       "Time                                                         \n",
       "2022-02-14 02:00:00       0.968058       0.872462 -0.077356  \n",
       "2022-02-14 03:00:00       0.961822       0.870525 -0.064215  \n",
       "2022-02-14 04:00:00       0.954192       0.870115 -0.063241  \n",
       "2022-02-14 05:00:00       0.947175       0.868118 -0.071233  \n",
       "2022-02-14 06:00:00       0.939003       0.870264 -0.047907  \n",
       "\n",
       "[5 rows x 3550 columns]"
      ]
     },
     "execution_count": 6,
     "metadata": {},
     "output_type": "execute_result"
    }
   ],
   "source": [
    "df.tail()"
   ]
  },
  {
   "cell_type": "code",
   "execution_count": 7,
   "metadata": {},
   "outputs": [
    {
     "name": "stdout",
     "output_type": "stream",
     "text": [
      "Dataset creation done\n",
      "(2561933, 26)\n"
     ]
    }
   ],
   "source": [
    "from sklearn.model_selection import train_test_split\n",
    "\n",
    "dataset = df.copy()\n",
    "shift_window = 1\n",
    "X = np.empty((0, n_col + 1))\n",
    "Y = np.empty((0, 1))\n",
    "i = 0\n",
    "for coin in tracked_coins:\n",
    "    df_coin = dataset[[coin + x for x in col_names_list]]\n",
    "    # df_coin[coin + \"_delta\"] = (df_coin[[coin]].values - df_coin[[coin + '_prev_close']].values)\n",
    "    df_coin['log_diff'] = np.log(df_coin[coin]).diff(1)\n",
    "    df_coin.dropna(inplace=True)\n",
    "    \n",
    "\n",
    "    X_coin = df_coin.values\n",
    "    # Y_coin = np.where(df_coin[coin + \"_delta\"] > 0, 1, 0)\n",
    "    Y_coin = df_coin['log_diff'].values.reshape(-1, 1)\n",
    "\n",
    "    X = np.concatenate([X, X_coin], axis=0)\n",
    "    Y = np.concatenate([Y, Y_coin], axis=0)\n",
    "    # Y.append(Y_coin)\n",
    "    i += 1\n",
    "\n",
    "\n",
    "# X_ = [item for sublist in X for item in sublist]\n",
    "# Y_ = [item for sublist in Y for item in sublist]\n",
    "# X = np.array(X_)\n",
    "# Y = np.array(Y_)\n",
    "print('Dataset creation done')\n",
    "print(X.shape)"
   ]
  },
  {
   "cell_type": "code",
   "execution_count": 8,
   "metadata": {},
   "outputs": [
    {
     "name": "stdout",
     "output_type": "stream",
     "text": [
      "(2561933, 26)\n",
      "(2561933, 26)\n"
     ]
    }
   ],
   "source": [
    "print(X.shape)\n",
    "Y = Y.reshape((-1,1))\n",
    "\n",
    "# X = X[:, 0]\n",
    "# X = X.reshape(-1,1)\n",
    "scaler = MinMaxScaler()\n",
    "y_scaler = MinMaxScaler()\n",
    "X_scaled = scaler.fit_transform(X)\n",
    "y_scaled = y_scaler.fit_transform(Y)\n",
    "print(X_scaled.shape)"
   ]
  },
  {
   "cell_type": "code",
   "execution_count": 9,
   "metadata": {},
   "outputs": [],
   "source": [
    "# Initiaton value of lag\n",
    "window = 12\n",
    "# sliding windows function\n",
    "def threeD_dataset (X, y, time_steps = 1):\n",
    "    Xs, ys = [], []\n",
    "    \n",
    "    for i in range(len(X)-time_steps):\n",
    "        v = X[i:i+time_steps, :]\n",
    "        Xs.append(v)\n",
    "        ys.append(y[i+time_steps, :])\n",
    "        \n",
    "    return np.array(Xs), np.array(ys)"
   ]
  },
  {
   "cell_type": "code",
   "execution_count": 10,
   "metadata": {},
   "outputs": [
    {
     "name": "stdout",
     "output_type": "stream",
     "text": [
      "3D Data done\n"
     ]
    }
   ],
   "source": [
    "X_3D, y = threeD_dataset(X_scaled, y_scaled, window)\n",
    "X_3D = np.reshape(X_3D, (X_3D.shape[0],X_3D.shape[1],X_3D.shape[2]))\n",
    "print('3D Data done')"
   ]
  },
  {
   "cell_type": "code",
   "execution_count": 11,
   "metadata": {},
   "outputs": [
    {
     "name": "stdout",
     "output_type": "stream",
     "text": [
      "(2561921, 12, 26)\n",
      "(2561921, 1)\n",
      "Test split done\n"
     ]
    }
   ],
   "source": [
    "print(X_3D.shape)\n",
    "print(y.shape)\n",
    "\n",
    "X_train, X_test, y_train, y_test = train_test_split(X_3D, y, test_size=0.2)\n",
    "print('Test split done')\n"
   ]
  },
  {
   "cell_type": "code",
   "execution_count": 12,
   "metadata": {},
   "outputs": [
    {
     "name": "stdout",
     "output_type": "stream",
     "text": [
      "[[0.49645187]\n",
      " [0.49927577]\n",
      " [0.4999166 ]\n",
      " ...\n",
      " [0.50002036]\n",
      " [0.49902643]\n",
      " [0.50146031]]\n"
     ]
    }
   ],
   "source": [
    "print(y)"
   ]
  },
  {
   "cell_type": "code",
   "execution_count": 13,
   "metadata": {},
   "outputs": [],
   "source": [
    "from keras.models import Sequential\n",
    "from keras.layers import Dense, LSTM, Dropout, GRU\n",
    "from keras.layers import *\n",
    "from sklearn.preprocessing import MinMaxScaler\n",
    "from sklearn.metrics import mean_squared_error, mean_absolute_error\n",
    "from keras.callbacks import EarlyStopping\n",
    "\n",
    "# The GRU architecture\n",
    "modelGRU = Sequential()\n",
    "\n",
    "modelGRU.add(GRU(units=50, return_sequences=True, input_shape=(X_train.shape[1],X_train.shape[2])))\n",
    "modelGRU.add(Dropout(0.2))\n",
    "\n",
    "modelGRU.add(GRU(units=50, return_sequences=True, input_shape=(X_train.shape[1],X_train.shape[2])))\n",
    "modelGRU.add(Dropout(0.2))\n",
    "\n",
    "modelGRU.add(GRU(units=50, return_sequences=True, input_shape=(X_train.shape[1],X_train.shape[2])))\n",
    "modelGRU.add(Dropout(0.2))\n",
    "\n",
    "modelGRU.add(GRU(units=50))\n",
    "modelGRU.add(Dropout(0.2))\n",
    "\n",
    "modelGRU.add(Dense(units=1))\n",
    "# modelGRU.summary()\n",
    "\n",
    "# Compiling the Gated Recurrent Unit\n",
    "modelGRU.compile(optimizer='adam', loss='mse')"
   ]
  },
  {
   "cell_type": "code",
   "execution_count": 14,
   "metadata": {},
   "outputs": [
    {
     "name": "stdout",
     "output_type": "stream",
     "text": [
      "25620/25620 [==============================] - 564s 22ms/step - loss: 1.2316e-04 - val_loss: 3.4882e-06\n"
     ]
    }
   ],
   "source": [
    "import keras\n",
    "\n",
    "# Fitting into data training and data validation\n",
    "early_stop = keras.callbacks.EarlyStopping(monitor = 'val_loss', patience = 10)\n",
    "\n",
    "batch_size = 64\n",
    "epoch = 1\n",
    "pred = modelGRU.fit(X_train, y_train, validation_split = 0.2, batch_size=batch_size, epochs=epoch, callbacks = [early_stop], shuffle=True)"
   ]
  },
  {
   "cell_type": "code",
   "execution_count": 15,
   "metadata": {},
   "outputs": [
    {
     "name": "stdout",
     "output_type": "stream",
     "text": [
      "3.430270680837566e-06\n"
     ]
    }
   ],
   "source": [
    "scores = modelGRU.evaluate(X_test, y_test, verbose=0)\n",
    "print(scores)"
   ]
  },
  {
   "cell_type": "code",
   "execution_count": 16,
   "metadata": {},
   "outputs": [],
   "source": [
    "predictions = modelGRU.predict(X_test)"
   ]
  },
  {
   "cell_type": "code",
   "execution_count": 17,
   "metadata": {},
   "outputs": [
    {
     "data": {
      "image/png": "[encoded data removed]",
      "text/plain": [
       "<Figure size 432x288 with 1 Axes>"
      ]
     },
     "metadata": {},
     "output_type": "display_data"
    }
   ],
   "source": [
    "plt.plot(predictions[-100:], label='predictions')\n",
    "plt.plot(y_test[-100:], label='real')\n",
    "plt.legend(loc='upper right')\n",
    "plt.show()"
   ]
  },
  {
   "cell_type": "code",
   "execution_count": 18,
   "metadata": {},
   "outputs": [
    {
     "name": "stdout",
     "output_type": "stream",
     "text": [
      "0.0018863180532227226\n"
     ]
    }
   ],
   "source": [
    "mape = mean_absolute_percentage_error(y_true = y_test, \n",
    "                                      y_pred = predictions)\n",
    "print(mape)"
   ]
  },
  {
   "cell_type": "code",
   "execution_count": 135,
   "metadata": {},
   "outputs": [],
   "source": [
    "def get_sarima_mape(df, coin):\n",
    "    # coin_df = df\n",
    "    coin_df = df.drop(df[df.index.hour != 0].index)\n",
    "    coin_df.drop(coin_df[coin_df[coin + \"_pred\"].isna() != 0].index, inplace=True)\n",
    "    mape = mean_absolute_percentage_error(y_true = coin_df[coin], \n",
    "                                      y_pred = coin_df[coin + \"_pred\"])\n",
    "    # print('Mape for ', coin, ': ', mape)\n",
    "    return mape"
   ]
  },
  {
   "cell_type": "code",
   "execution_count": 136,
   "metadata": {},
   "outputs": [],
   "source": [
    "mape = {}\n",
    "for coin in tracked_coins:\n",
    "    mape_coin = get_sarima_mape(df, coin)\n",
    "    mape[coin] = mape_coin"
   ]
  },
  {
   "cell_type": "code",
   "execution_count": 137,
   "metadata": {},
   "outputs": [
    {
     "name": "stdout",
     "output_type": "stream",
     "text": [
      "0.014715068192098894\n"
     ]
    }
   ],
   "source": [
    "import statistics\n",
    "sarima_mape = [x[-1] for x in mape.items()]\n",
    "average_mape = statistics.fmean(sarima_mape)\n",
    "print(average_mape)"
   ]
  },
  {
   "cell_type": "code",
   "execution_count": 138,
   "metadata": {},
   "outputs": [],
   "source": [
    "for coin in tracked_coins:\n",
    "\n",
    "    df[coin + \"_close_log_diff\"] = np.log(df[coin]).diff(1)\n",
    "\n",
    "    df[coin + \"_20_SMA\"] = df[coin + \"_close_log_diff\"].shift(1).rolling(window = 500, min_periods = 1).mean()\n",
    "    df[coin + \"_SMA_preds_exp\"] = np.exp(df[coin + \"_20_SMA\"].values)\n",
    "    df[coin + \"_SMA_preds\"] = df[coin + \"_SMA_preds_exp\"] * df[coin + \"_1\"]"
   ]
  },
  {
   "cell_type": "code",
   "execution_count": 142,
   "metadata": {},
   "outputs": [],
   "source": [
    "def get_SMA_mape(df, coin):\n",
    "    # coin_df = df\n",
    "    coin_df = df.drop(df[df.index.hour != 0].index)\n",
    "    coin_df.drop(coin_df[coin_df[coin + \"_SMA_preds\"].isna() != 0].index, inplace=True)\n",
    "    mape = mean_absolute_percentage_error(y_true = coin_df[coin], \n",
    "                                      y_pred = coin_df[coin + \"_SMA_preds\"])\n",
    "    # print('Mape for ', coin, ': ', mape)\n",
    "    return mape"
   ]
  },
  {
   "cell_type": "code",
   "execution_count": 143,
   "metadata": {},
   "outputs": [
    {
     "name": "stdout",
     "output_type": "stream",
     "text": [
      "0.01449524146038071\n"
     ]
    }
   ],
   "source": [
    "SMA_mape = {}\n",
    "for coin in tracked_coins:\n",
    "    SMA_mape_coin = get_SMA_mape(df, coin)\n",
    "    SMA_mape[coin] = SMA_mape_coin\n",
    "SMA_mape = [x[-1] for x in SMA_mape.items()]\n",
    "average_SMA_mape = statistics.fmean(SMA_mape)\n",
    "print(average_SMA_mape)"
   ]
  },
  {
   "cell_type": "code",
   "execution_count": 144,
   "metadata": {},
   "outputs": [],
   "source": [
    "def get_lag_mape(df, coin):\n",
    "    # coin_df = df\n",
    "    coin_df = df.drop(df[df.index.hour != 0].index)\n",
    "    coin_df.drop(coin_df[coin_df[coin + \"_1\"].isna() != 0].index, inplace=True)\n",
    "    mape = mean_absolute_percentage_error(y_true = coin_df[coin], \n",
    "                                      y_pred = coin_df[coin + \"_1\"])\n",
    "    # print('Mape for ', coin, ': ', mape)\n",
    "    return mape"
   ]
  },
  {
   "cell_type": "code",
   "execution_count": 145,
   "metadata": {},
   "outputs": [
    {
     "name": "stdout",
     "output_type": "stream",
     "text": [
      "0.014436160032555745\n"
     ]
    }
   ],
   "source": [
    "lag_mape = {}\n",
    "for coin in tracked_coins:\n",
    "    lag_mape_coin = get_lag_mape(df, coin)\n",
    "    lag_mape[coin] = lag_mape_coin\n",
    "lag_mape = [x[-1] for x in lag_mape.items()]\n",
    "average_lag_mape = statistics.fmean(lag_mape)\n",
    "print(average_lag_mape)"
   ]
  },
  {
   "cell_type": "code",
   "execution_count": 146,
   "metadata": {},
   "outputs": [],
   "source": [
    "from sklearn.metrics import accuracy_score\n",
    "\n",
    "def calculate_signal_accuracy(price_lag, close_price, prediction):\n",
    "\n",
    "    delta_real = close_price - price_lag\n",
    "    delta_prediction = prediction - price_lag\n",
    "\n",
    "    signal_real = np.where(delta_real > 0, 1, 0)\n",
    "    signal_prediction = np.where(delta_prediction > 0, 1, 0)\n",
    "    accuracy = accuracy_score(signal_real, signal_prediction)\n",
    "\n",
    "    return accuracy"
   ]
  },
  {
   "cell_type": "code",
   "execution_count": 147,
   "metadata": {},
   "outputs": [
    {
     "data": {
      "text/html": [
       "<div>\n",
       "<style scoped>\n",
       "    .dataframe tbody tr th:only-of-type {\n",
       "        vertical-align: middle;\n",
       "    }\n",
       "\n",
       "    .dataframe tbody tr th {\n",
       "        vertical-align: top;\n",
       "    }\n",
       "\n",
       "    .dataframe thead th {\n",
       "        text-align: right;\n",
       "    }\n",
       "</style>\n",
       "<table border=\"1\" class=\"dataframe\">\n",
       "  <thead>\n",
       "    <tr style=\"text-align: right;\">\n",
       "      <th></th>\n",
       "      <th>DCR</th>\n",
       "      <th>CTSI</th>\n",
       "      <th>BTC</th>\n",
       "      <th>FTM</th>\n",
       "      <th>TRB</th>\n",
       "      <th>MANA</th>\n",
       "      <th>BAT</th>\n",
       "      <th>GXS</th>\n",
       "      <th>STORM</th>\n",
       "      <th>OMG</th>\n",
       "      <th>...</th>\n",
       "      <th>XEM_SMA_preds_exp</th>\n",
       "      <th>XEM_SMA_preds</th>\n",
       "      <th>KNC_close_log_diff</th>\n",
       "      <th>KNC_20_SMA</th>\n",
       "      <th>KNC_SMA_preds_exp</th>\n",
       "      <th>KNC_SMA_preds</th>\n",
       "      <th>LRC_close_log_diff</th>\n",
       "      <th>LRC_20_SMA</th>\n",
       "      <th>LRC_SMA_preds_exp</th>\n",
       "      <th>LRC_SMA_preds</th>\n",
       "    </tr>\n",
       "    <tr>\n",
       "      <th>Time</th>\n",
       "      <th></th>\n",
       "      <th></th>\n",
       "      <th></th>\n",
       "      <th></th>\n",
       "      <th></th>\n",
       "      <th></th>\n",
       "      <th></th>\n",
       "      <th></th>\n",
       "      <th></th>\n",
       "      <th></th>\n",
       "      <th></th>\n",
       "      <th></th>\n",
       "      <th></th>\n",
       "      <th></th>\n",
       "      <th></th>\n",
       "      <th></th>\n",
       "      <th></th>\n",
       "      <th></th>\n",
       "      <th></th>\n",
       "      <th></th>\n",
       "      <th></th>\n",
       "    </tr>\n",
       "  </thead>\n",
       "  <tbody>\n",
       "    <tr>\n",
       "      <th>2019-07-01 01:00:00</th>\n",
       "      <td>30.62</td>\n",
       "      <td>NaN</td>\n",
       "      <td>10898.54</td>\n",
       "      <td>0.02711</td>\n",
       "      <td>NaN</td>\n",
       "      <td>0.05071</td>\n",
       "      <td>0.3239</td>\n",
       "      <td>2.093</td>\n",
       "      <td>0.002763</td>\n",
       "      <td>2.514</td>\n",
       "      <td>...</td>\n",
       "      <td>NaN</td>\n",
       "      <td>NaN</td>\n",
       "      <td>NaN</td>\n",
       "      <td>NaN</td>\n",
       "      <td>NaN</td>\n",
       "      <td>NaN</td>\n",
       "      <td>NaN</td>\n",
       "      <td>NaN</td>\n",
       "      <td>NaN</td>\n",
       "      <td>NaN</td>\n",
       "    </tr>\n",
       "    <tr>\n",
       "      <th>2019-07-01 02:00:00</th>\n",
       "      <td>31.10</td>\n",
       "      <td>NaN</td>\n",
       "      <td>10999.70</td>\n",
       "      <td>0.02751</td>\n",
       "      <td>NaN</td>\n",
       "      <td>0.04994</td>\n",
       "      <td>0.3155</td>\n",
       "      <td>2.197</td>\n",
       "      <td>0.002851</td>\n",
       "      <td>2.541</td>\n",
       "      <td>...</td>\n",
       "      <td>NaN</td>\n",
       "      <td>NaN</td>\n",
       "      <td>0.003571</td>\n",
       "      <td>NaN</td>\n",
       "      <td>NaN</td>\n",
       "      <td>NaN</td>\n",
       "      <td>0.007667</td>\n",
       "      <td>NaN</td>\n",
       "      <td>NaN</td>\n",
       "      <td>NaN</td>\n",
       "    </tr>\n",
       "    <tr>\n",
       "      <th>2019-07-01 03:00:00</th>\n",
       "      <td>31.28</td>\n",
       "      <td>NaN</td>\n",
       "      <td>11085.91</td>\n",
       "      <td>0.02704</td>\n",
       "      <td>NaN</td>\n",
       "      <td>0.05379</td>\n",
       "      <td>0.3311</td>\n",
       "      <td>2.134</td>\n",
       "      <td>0.002935</td>\n",
       "      <td>2.575</td>\n",
       "      <td>...</td>\n",
       "      <td>1.005813</td>\n",
       "      <td>0.092233</td>\n",
       "      <td>0.009460</td>\n",
       "      <td>0.003571</td>\n",
       "      <td>1.003577</td>\n",
       "      <td>0.253403</td>\n",
       "      <td>0.004536</td>\n",
       "      <td>0.007667</td>\n",
       "      <td>1.007697</td>\n",
       "      <td>0.055413</td>\n",
       "    </tr>\n",
       "    <tr>\n",
       "      <th>2019-07-01 04:00:00</th>\n",
       "      <td>31.25</td>\n",
       "      <td>NaN</td>\n",
       "      <td>11086.59</td>\n",
       "      <td>0.02757</td>\n",
       "      <td>NaN</td>\n",
       "      <td>0.04949</td>\n",
       "      <td>0.3305</td>\n",
       "      <td>2.125</td>\n",
       "      <td>0.002827</td>\n",
       "      <td>2.557</td>\n",
       "      <td>...</td>\n",
       "      <td>1.003285</td>\n",
       "      <td>0.092071</td>\n",
       "      <td>0.000784</td>\n",
       "      <td>0.006515</td>\n",
       "      <td>1.006537</td>\n",
       "      <td>0.256566</td>\n",
       "      <td>0.020427</td>\n",
       "      <td>0.006102</td>\n",
       "      <td>1.006120</td>\n",
       "      <td>0.055578</td>\n",
       "    </tr>\n",
       "    <tr>\n",
       "      <th>2019-07-01 05:00:00</th>\n",
       "      <td>31.16</td>\n",
       "      <td>NaN</td>\n",
       "      <td>11013.00</td>\n",
       "      <td>0.02739</td>\n",
       "      <td>NaN</td>\n",
       "      <td>0.04945</td>\n",
       "      <td>0.3247</td>\n",
       "      <td>2.120</td>\n",
       "      <td>0.002802</td>\n",
       "      <td>2.516</td>\n",
       "      <td>...</td>\n",
       "      <td>1.009740</td>\n",
       "      <td>0.094774</td>\n",
       "      <td>-0.007476</td>\n",
       "      <td>0.004605</td>\n",
       "      <td>1.004616</td>\n",
       "      <td>0.256277</td>\n",
       "      <td>-0.010878</td>\n",
       "      <td>0.010877</td>\n",
       "      <td>1.010936</td>\n",
       "      <td>0.056997</td>\n",
       "    </tr>\n",
       "  </tbody>\n",
       "</table>\n",
       "<p>5 rows × 1278 columns</p>\n",
       "</div>"
      ],
      "text/plain": [
       "                       DCR  CTSI       BTC      FTM  TRB     MANA     BAT  \\\n",
       "Time                                                                        \n",
       "2019-07-01 01:00:00  30.62   NaN  10898.54  0.02711  NaN  0.05071  0.3239   \n",
       "2019-07-01 02:00:00  31.10   NaN  10999.70  0.02751  NaN  0.04994  0.3155   \n",
       "2019-07-01 03:00:00  31.28   NaN  11085.91  0.02704  NaN  0.05379  0.3311   \n",
       "2019-07-01 04:00:00  31.25   NaN  11086.59  0.02757  NaN  0.04949  0.3305   \n",
       "2019-07-01 05:00:00  31.16   NaN  11013.00  0.02739  NaN  0.04945  0.3247   \n",
       "\n",
       "                       GXS     STORM    OMG  ...  XEM_SMA_preds_exp  \\\n",
       "Time                                         ...                      \n",
       "2019-07-01 01:00:00  2.093  0.002763  2.514  ...                NaN   \n",
       "2019-07-01 02:00:00  2.197  0.002851  2.541  ...                NaN   \n",
       "2019-07-01 03:00:00  2.134  0.002935  2.575  ...           1.005813   \n",
       "2019-07-01 04:00:00  2.125  0.002827  2.557  ...           1.003285   \n",
       "2019-07-01 05:00:00  2.120  0.002802  2.516  ...           1.009740   \n",
       "\n",
       "                     XEM_SMA_preds  KNC_close_log_diff  KNC_20_SMA  \\\n",
       "Time                                                                 \n",
       "2019-07-01 01:00:00            NaN                 NaN         NaN   \n",
       "2019-07-01 02:00:00            NaN            0.003571         NaN   \n",
       "2019-07-01 03:00:00       0.092233            0.009460    0.003571   \n",
       "2019-07-01 04:00:00       0.092071            0.000784    0.006515   \n",
       "2019-07-01 05:00:00       0.094774           -0.007476    0.004605   \n",
       "\n",
       "                     KNC_SMA_preds_exp  KNC_SMA_preds  LRC_close_log_diff  \\\n",
       "Time                                                                        \n",
       "2019-07-01 01:00:00                NaN            NaN                 NaN   \n",
       "2019-07-01 02:00:00                NaN            NaN            0.007667   \n",
       "2019-07-01 03:00:00           1.003577       0.253403            0.004536   \n",
       "2019-07-01 04:00:00           1.006537       0.256566            0.020427   \n",
       "2019-07-01 05:00:00           1.004616       0.256277           -0.010878   \n",
       "\n",
       "                     LRC_20_SMA  LRC_SMA_preds_exp  LRC_SMA_preds  \n",
       "Time                                                               \n",
       "2019-07-01 01:00:00         NaN                NaN            NaN  \n",
       "2019-07-01 02:00:00         NaN                NaN            NaN  \n",
       "2019-07-01 03:00:00    0.007667           1.007697       0.055413  \n",
       "2019-07-01 04:00:00    0.006102           1.006120       0.055578  \n",
       "2019-07-01 05:00:00    0.010877           1.010936       0.056997  \n",
       "\n",
       "[5 rows x 1278 columns]"
      ]
     },
     "execution_count": 147,
     "metadata": {},
     "output_type": "execute_result"
    }
   ],
   "source": [
    "df.head()"
   ]
  },
  {
   "cell_type": "code",
   "execution_count": 152,
   "metadata": {},
   "outputs": [],
   "source": [
    "total_accuracy_lag = []\n",
    "total_accuracy_SMA = []\n",
    "total_accuracy_SARIMAX = []\n",
    "df_accuracy = pd.DataFrame(columns=[\"accuracy_lag\", \"accuracy_SMA\", \"accuracy_SARIMAX\",\"starting_on\"], index=tracked_coins)\n",
    "\n",
    "for coin in tracked_coins:\n",
    "\n",
    "    coin_df = df.copy()\n",
    "\n",
    "    coin_df.drop(coin_df[coin_df.index.hour != 0].index, inplace=True)\n",
    "    coin_df.drop(coin_df[coin_df[coin + \"_pred\"].isna() != 0].index, inplace=True)\n",
    "\n",
    "    accuracy_lag = calculate_signal_accuracy(coin_df[coin + \"_1\"], coin_df[coin], coin_df[coin + \"_1\"])\n",
    "    accuracy_SMA = calculate_signal_accuracy(coin_df[coin + \"_1\"], coin_df[coin], coin_df[coin + \"_SMA_preds\"])\n",
    "    accuracy_SARIMAX = calculate_signal_accuracy(coin_df[coin + \"_1\"], coin_df[coin], coin_df[coin + \"_pred\"])\n",
    "\n",
    "    total_accuracy_lag.append(accuracy_lag)\n",
    "    total_accuracy_SMA.append(accuracy_SMA)\n",
    "    total_accuracy_SARIMAX.append(accuracy_SARIMAX)\n",
    "\n",
    "    df_accuracy[\"accuracy_lag\"][coin] = accuracy_lag\n",
    "    df_accuracy[\"accuracy_SMA\"][coin] = accuracy_SMA\n",
    "    df_accuracy[\"accuracy_SARIMAX\"][coin] = accuracy_SARIMAX\n",
    "    df_accuracy[\"starting_on\"][coin] = coin_df.index[0]\n",
    "\n",
    "df_accuracy.to_csv('accuracy_scores.csv', sep=\";\", encoding=\"UTF-8\")"
   ]
  },
  {
   "cell_type": "code",
   "execution_count": 153,
   "metadata": {},
   "outputs": [
    {
     "name": "stdout",
     "output_type": "stream",
     "text": [
      "Toal accuracy based on lag prediction:  52.82260199426096 %\n",
      "Signal accuracy based on moving average prediction:  49.21690422948008 %\n",
      "Signal accuracy based on SARIMAX prediction:  51.17182633042287 %\n"
     ]
    }
   ],
   "source": [
    "print('Toal accuracy based on lag prediction: ', 100*statistics.fmean(total_accuracy_lag),'%')\n",
    "print('Signal accuracy based on moving average prediction: ', 100*statistics.fmean(total_accuracy_SMA),'%')\n",
    "print('Signal accuracy based on SARIMAX prediction: ', 100*statistics.fmean(total_accuracy_SARIMAX),'%')"
   ]
  },
  {
   "cell_type": "code",
   "execution_count": null,
   "metadata": {},
   "outputs": [],
   "source": []
  }
 ],
 "metadata": {
  "kernelspec": {
   "display_name": "Python 3",
   "language": "python",
   "name": "python3"
  },
  "language_info": {
   "codemirror_mode": {
    "name": "ipython",
    "version": 3
   },
   "file_extension": ".py",
   "mimetype": "text/x-python",
   "name": "python",
   "nbconvert_exporter": "python",
   "pygments_lexer": "ipython3",
   "version": "3.9.10"
  },
  "latex_envs": {
   "LaTeX_envs_menu_present": true,
   "autoclose": false,
   "autocomplete": true,
   "bibliofile": "biblio.bib",
   "cite_by": "apalike",
   "current_citInitial": 1,
   "eqLabelWithNumbers": true,
   "eqNumInitial": 1,
   "hotkeys": {
    "equation": "Ctrl-E",
    "itemize": "Ctrl-I"
   },
   "labels_anchors": false,
   "latex_user_defs": false,
   "report_style_numbering": false,
   "user_envs_cfg": false
  },
  "toc": {
   "base_numbering": 1,
   "nav_menu": {},
   "number_sections": true,
   "sideBar": true,
   "skip_h1_title": false,
   "title_cell": "Table of Contents",
   "title_sidebar": "Contents",
   "toc_cell": true,
   "toc_position": {},
   "toc_section_display": true,
   "toc_window_display": true
  }
 },
 "nbformat": 4,
 "nbformat_minor": 4
}
