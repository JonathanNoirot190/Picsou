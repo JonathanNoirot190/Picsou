{
 "cells": [
  {
   "cell_type": "markdown",
   "metadata": {},
   "source": [
    "# Importing Required Packages"
   ]
  },
  {
   "cell_type": "code",
   "execution_count": 1,
   "metadata": {
    "ExecuteTime": {
     "end_time": "2020-10-01T13:08:06.200614Z",
     "start_time": "2020-10-01T13:07:37.491138Z"
    }
   },
   "outputs": [],
   "source": [
    "import pandas as pd\n",
    "import numpy as np\n",
    "import matplotlib.pyplot as plt\n",
    "import seaborn as sns\n",
    "\n",
    "from sklearn.preprocessing import MinMaxScaler, Normalizer\n",
    "from sklearn.preprocessing import OneHotEncoder, LabelEncoder\n",
    "from sklearn.metrics import mean_squared_error, mean_absolute_percentage_error, accuracy_score\n",
    "import json\n",
    "import warnings\n",
    "import os\n",
    "import ast\n",
    "\n",
    "sns.set()\n",
    "warnings.filterwarnings(\"ignore\")"
   ]
  },
  {
   "cell_type": "markdown",
   "metadata": {},
   "source": [
    "# Importing Dataset"
   ]
  },
  {
   "cell_type": "code",
   "execution_count": 2,
   "metadata": {
    "ExecuteTime": {
     "end_time": "2020-10-01T13:08:10.650204Z",
     "start_time": "2020-10-01T13:08:10.634205Z"
    }
   },
   "outputs": [
    {
     "name": "stdout",
     "output_type": "stream",
     "text": [
      "['DCR', 'CTSI', 'BTC', 'FTM', 'TRB', 'MANA', 'BAT', 'GXS', 'STORM', 'OMG', 'STMX', 'WAN', 'IOST', 'NMR', 'FET', 'ICX', 'MATIC', 'SKL', 'VET', 'KEEP', 'ALGO', 'DOGE', 'AXS', 'TRX', 'BNT', 'SAND', 'RUNE', 'HBAR', 'WAVES', 'FUN', 'ARPA', 'CREAM', 'ETH', 'DOCK', 'NEXO', 'SRM', 'LTO', 'ETC', 'BTS', 'DOT', 'VTH', 'EOS', 'ONT', 'AGLD', 'NKN', 'CRV', 'CELR', 'CRO', 'OCEAN', 'CAKE', 'MDX', 'CELO', 'SXP', 'RVN', 'QTUM', 'ZEC', 'AUDIO', 'ACH', 'AVAX', 'SUSHI', 'ANT', 'UMA', 'FIL', 'BAND', 'BEAM', 'ATOM', 'UNI', 'TOMO', 'ERD', 'ENJ', 'PERL', 'YFI', 'CHZ', 'FTT', 'SC', 'WBTC', 'API3', 'ZIL', 'BCH', 'CHR', 'AAVE', 'DENT', 'MKR', 'HT', 'REN', 'COTI', 'CEL', 'PNT', 'HIVE', '1INCH', 'HOT', 'AMP', 'LTC', 'ADA', 'SNX', 'IOTX', 'MITH', 'TFUEL', 'XMR', 'ARDR', 'RLY', 'PERP', 'LUNA', 'REQ', 'ZRX', 'NEO', 'MFT', 'WRX', 'HC', 'REEF', 'STORJ', 'NULS', 'BAL', 'STPT', 'SHIB', 'NANO', 'DASH', 'RLC', 'DATA', 'KSM', 'THETA', 'LINK', 'MTL', 'SOL', 'DGB', 'GRT', 'AION', 'XLM', 'COMP', 'DUSK', 'MTA', 'BNB', 'OGN', 'XTZ', 'KAVA', 'CQT', 'ANKR', 'TROY', 'XRP', 'XEM', 'KNC', 'LRC']\n"
     ]
    }
   ],
   "source": [
    "config_url = '../../hourlyAPI/config/coins/coins_to_track.json'\n",
    "f = open(config_url)\n",
    "tracked_coins = ast.literal_eval(json.load(f)['coins'])\n",
    "f.close()\n",
    "print(tracked_coins)"
   ]
  },
  {
   "cell_type": "code",
   "execution_count": 3,
   "metadata": {},
   "outputs": [],
   "source": [
    "tracked_coins = [\"XEM\",\"ZRX\",\"SKL\",\n",
    "        \"BTC\",\"ETH\",\"BNB\",\"XRP\",\"LTC\",\"BCH\",\"XLM\",\"EOS\",\n",
    "        \"UNI\",\"CAKE\",\"AAVE\",\"LRC\",\"MKR\",\"BAT\",\"CRV\",\"COMP\",\"YFI\",\"ZIL\",\n",
    "        \"SUSHI\",\"UMA\",\"KAVA\",\"SRM\",\"MDX\",\"REEF\",\"RLC\",\"API3\",\"BAL\",\n",
    "        \"ATOM\",\"ANT\",\"ADA\",\"CRO\",\"XTZ\",\"TRX\",\"LINK\",\"FTM\",\n",
    "        \"ENJ\",\"DOGE\",\"MANA\",\n",
    "        \"SAND\",\"SHIB\",\"SOL\",\"STMX\",\"STORJ\"]"
   ]
  },
  {
   "cell_type": "code",
   "execution_count": 4,
   "metadata": {},
   "outputs": [],
   "source": [
    "def load_coin_dataset():\n",
    "    url = '../statistical_models/coins_history_indicators.csv'\n",
    "    start_train = \"2019-07-01 01:00:00\"\n",
    "    df = pd.read_csv(url, sep=\"\\t\")\n",
    "    df.set_index(\"Time\", inplace = True)\n",
    "    \n",
    "    df.sort_index(inplace=True)\n",
    "    df = df[start_train: df.index[-1]]\n",
    "\n",
    "    return df"
   ]
  },
  {
   "cell_type": "code",
   "execution_count": 5,
   "metadata": {},
   "outputs": [],
   "source": [
    "df = load_coin_dataset()"
   ]
  },
  {
   "cell_type": "code",
   "execution_count": 6,
   "metadata": {},
   "outputs": [
    {
     "name": "stdout",
     "output_type": "stream",
     "text": [
      "XEM\n",
      "XEM_SMA_5\n",
      "XEM_SMA_15\n",
      "XEM_SMA_ratio\n",
      "XEM_prev_close\n",
      "XEM_Diff\n",
      "XEM_Up\n",
      "XEM_Down\n",
      "XEM_avg_5up\n",
      "XEM_avg_5down\n",
      "XEM_avg_15up\n",
      "XEM_avg_15down\n",
      "XEM_RS_5\n",
      "XEM_RS_15\n",
      "XEM_RSI_5\n",
      "XEM_RSI_15\n",
      "XEM_RSI_ratio\n",
      "XEM_5Ewm\n",
      "XEM_15Ewm\n",
      "XEM_MACD\n",
      "XEM_15MA\n",
      "XEM_SD\n",
      "XEM_upperband\n",
      "XEM_lowerband\n",
      "XEM_RC\n",
      "25\n",
      "['', '_SMA_5', '_SMA_15', '_SMA_ratio', '_prev_close', '_Diff', '_Up', '_Down', '_avg_5up', '_avg_5down', '_avg_15up', '_avg_15down', '_RS_5', '_RS_15', '_RSI_5', '_RSI_15', '_RSI_ratio', '_5Ewm', '_15Ewm', '_MACD', '_15MA', '_SD', '_upperband', '_lowerband', '_RC']\n"
     ]
    }
   ],
   "source": [
    "col_names_list = []\n",
    "for coin in [tracked_coins[0]]:\n",
    "    n_col = 0\n",
    "    col = df.columns\n",
    "    for c in col:\n",
    "        if coin in c:\n",
    "            col_names_list.append(c.replace(coin, \"\"))\n",
    "            print(c)\n",
    "            n_col += 1\n",
    "print(n_col)\n",
    "print(col_names_list)"
   ]
  },
  {
   "cell_type": "code",
   "execution_count": 7,
   "metadata": {},
   "outputs": [
    {
     "name": "stdout",
     "output_type": "stream",
     "text": [
      "Dataset creation done\n",
      "(834023, 26)\n",
      "(834023, 1)\n",
      "(834023, 46)\n"
     ]
    }
   ],
   "source": [
    "from sklearn.model_selection import train_test_split\n",
    "\n",
    "dataset = df.copy()\n",
    "shift_window = 1\n",
    "\n",
    "# integer encode\n",
    "label_encoder = LabelEncoder()\n",
    "# integer_encoded = label_encoder.fit_transform(np.array(tracked_coins).reshape(-1,1))\n",
    "# integer_encoded = integer_encoded.reshape(len(integer_encoded), 1)\n",
    "\n",
    "onehot_encoder = OneHotEncoder()\n",
    "onehot_encoder.fit(np.array(tracked_coins).reshape(-1, 1))\n",
    "\n",
    "\n",
    "X = np.empty((0, n_col + 1))\n",
    "X_encoded = np.empty((0, len(tracked_coins)))\n",
    "Y = np.empty((0, 1))\n",
    "i = 0\n",
    "for coin in tracked_coins:\n",
    "    df_coin = dataset[[coin + x for x in col_names_list]]\n",
    "    \n",
    "    df_coin['log_diff'] = np.log(df_coin[coin]).diff(1)\n",
    "    df_coin.dropna(inplace=True)\n",
    "    delta = df_coin[[coin]].values - df_coin[[coin + '_prev_close']].values\n",
    "\n",
    "    X_coin = df_coin.values\n",
    "    Y_coin = np.where(delta > 0, 1, 0)\n",
    "\n",
    "    # encoded_coin = label_encoder.transform(np.array([coin]).reshape(1,-1))\n",
    "    # print(encoded_coin)\n",
    "    encoded_list = np.array([coin for val in range(len(X_coin))])\n",
    "    X_coin_encoded = onehot_encoder.transform(np.array(encoded_list).reshape(-1 ,1)).toarray()\n",
    "    # print(X_coin_encoded)\n",
    "    # X_coin_encoded = np.tile(X_coin_encoded, (len(X_coin), 1))\n",
    "    # X_coin_encoded = np.array(X_coin_encoded)\n",
    "    # print(X_coin_encoded.shape)\n",
    "    # print(X_encoded.shape)\n",
    "\n",
    "    X_encoded = np.row_stack((X_encoded, X_coin_encoded))\n",
    "\n",
    "    X = np.concatenate([X, X_coin], axis=0)\n",
    "    Y = np.concatenate([Y, Y_coin], axis=0)\n",
    "    # Y.append(Y_coin)\n",
    "    i += 1\n",
    "\n",
    "\n",
    "# X_ = [item for sublist in X for item in sublist]\n",
    "# Y_ = [item for sublist in Y for item in sublist]\n",
    "# X = np.array(X_)\n",
    "# Y = np.array(Y_)\n",
    "print('Dataset creation done')\n",
    "print(X.shape)\n",
    "print(Y.shape)\n",
    "print(X_encoded.shape)"
   ]
  },
  {
   "cell_type": "code",
   "execution_count": 8,
   "metadata": {},
   "outputs": [
    {
     "name": "stdout",
     "output_type": "stream",
     "text": [
      "(834023, 26)\n",
      "(834023, 26)\n"
     ]
    }
   ],
   "source": [
    "print(X.shape)\n",
    "# X = X[:, 0]\n",
    "# X = X.reshape(-1,1)\n",
    "scaler = MinMaxScaler()\n",
    "X_scaled = scaler.fit_transform(X)\n",
    "print(X_scaled.shape)"
   ]
  },
  {
   "cell_type": "code",
   "execution_count": 9,
   "metadata": {},
   "outputs": [
    {
     "name": "stdout",
     "output_type": "stream",
     "text": [
      "(834023, 72)\n"
     ]
    }
   ],
   "source": [
    "X_scaled = np.column_stack((X_scaled, X_encoded))\n",
    "print(X_scaled.shape)"
   ]
  },
  {
   "cell_type": "code",
   "execution_count": 10,
   "metadata": {},
   "outputs": [
    {
     "name": "stdout",
     "output_type": "stream",
     "text": [
      "(834023, 1)\n"
     ]
    }
   ],
   "source": [
    "print(Y.shape)"
   ]
  },
  {
   "cell_type": "code",
   "execution_count": 11,
   "metadata": {},
   "outputs": [],
   "source": [
    "# Initiaton value of lag\n",
    "window = 10\n",
    "# sliding windows function\n",
    "def threeD_dataset (X, y, time_steps = 1):\n",
    "    Xs, ys = [], []\n",
    "    \n",
    "    for i in range(len(X)-time_steps):\n",
    "        v = X[i:i+time_steps, :]\n",
    "        Xs.append(v)\n",
    "        ys.append(y[i+time_steps, :])\n",
    "        \n",
    "    return np.array(Xs), np.array(ys)"
   ]
  },
  {
   "cell_type": "code",
   "execution_count": 12,
   "metadata": {},
   "outputs": [
    {
     "name": "stdout",
     "output_type": "stream",
     "text": [
      "3D Data done\n"
     ]
    }
   ],
   "source": [
    "Y = Y.reshape((-1,1))\n",
    "X_3D, y = threeD_dataset(X_scaled, Y, window)\n",
    "X_3D = np.reshape(X_3D, (X_3D.shape[0],X_3D.shape[1],X_3D.shape[2]))\n",
    "print('3D Data done')"
   ]
  },
  {
   "cell_type": "code",
   "execution_count": 13,
   "metadata": {},
   "outputs": [
    {
     "name": "stdout",
     "output_type": "stream",
     "text": [
      "(834013, 10, 72)\n",
      "Test split done\n"
     ]
    }
   ],
   "source": [
    "print(X_3D.shape)\n",
    "\n",
    "X_train, X_test, y_train, y_test = train_test_split(X_3D, y, test_size=0.2, stratify=y, random_state=1)\n",
    "print('Test split done')\n"
   ]
  },
  {
   "cell_type": "code",
   "execution_count": 14,
   "metadata": {},
   "outputs": [
    {
     "name": "stdout",
     "output_type": "stream",
     "text": [
      "(667210, 10, 72)\n",
      "(667210, 1)\n",
      "(166803, 10, 72)\n",
      "(166803, 1)\n"
     ]
    }
   ],
   "source": [
    "print(X_train.shape)\n",
    "print(y_train.shape)\n",
    "print(X_test.shape)\n",
    "print(y_test.shape)"
   ]
  },
  {
   "cell_type": "code",
   "execution_count": 15,
   "metadata": {},
   "outputs": [],
   "source": [
    "from keras.models import Sequential\n",
    "from keras.layers import Dense, LSTM, Dropout, GRU\n",
    "from keras.layers import *\n",
    "from sklearn.preprocessing import MinMaxScaler\n",
    "from sklearn.metrics import mean_squared_error, mean_absolute_error\n",
    "from keras.callbacks import EarlyStopping\n",
    "\n",
    "# The GRU architecture\n",
    "modelGRU = Sequential()\n",
    "\n",
    "modelGRU.add(GRU(units=50, return_sequences=True, input_shape=(X_train.shape[1],X_train.shape[2])))\n",
    "modelGRU.add(Dropout(0.2))\n",
    "\n",
    "# modelGRU.add(GRU(units=50, return_sequences=True, input_shape=(X_train.shape[1],X_train.shape[2])))\n",
    "# modelGRU.add(Dropout(0.2))\n",
    "\n",
    "# modelGRU.add(GRU(units=50, return_sequences=True, input_shape=(X_train.shape[1],X_train.shape[2])))\n",
    "# modelGRU.add(Dropout(0.2))\n",
    "\n",
    "modelGRU.add(GRU(units=50))\n",
    "modelGRU.add(Dropout(0.2))\n",
    "\n",
    "modelGRU.add(Dense(units=1, activation='sigmoid'))\n",
    "# modelGRU.summary()\n",
    "\n",
    "# Compiling the Gated Recurrent Unit\n",
    "modelGRU.compile(loss='binary_crossentropy', optimizer='adam', metrics=['accuracy'])"
   ]
  },
  {
   "cell_type": "code",
   "execution_count": 16,
   "metadata": {},
   "outputs": [
    {
     "name": "stdout",
     "output_type": "stream",
     "text": [
      "Epoch 1/20\n",
      "8341/8341 [==============================] - 102s 12ms/step - loss: 0.6884 - accuracy: 0.5393 - val_loss: 0.6862 - val_accuracy: 0.5463\n",
      "Epoch 2/20\n",
      "8341/8341 [==============================] - 100s 12ms/step - loss: 0.6864 - accuracy: 0.5452 - val_loss: 0.6854 - val_accuracy: 0.5471\n",
      "Epoch 3/20\n",
      "8341/8341 [==============================] - 103s 12ms/step - loss: 0.6854 - accuracy: 0.5460 - val_loss: 0.6844 - val_accuracy: 0.5483\n",
      "Epoch 4/20\n",
      "8341/8341 [==============================] - 95s 11ms/step - loss: 0.6850 - accuracy: 0.5465 - val_loss: 0.6846 - val_accuracy: 0.5480\n",
      "Epoch 5/20\n",
      "8341/8341 [==============================] - 91s 11ms/step - loss: 0.6845 - accuracy: 0.5472 - val_loss: 0.6838 - val_accuracy: 0.5476\n",
      "Epoch 6/20\n",
      "8341/8341 [==============================] - 88s 11ms/step - loss: 0.6840 - accuracy: 0.5482 - val_loss: 0.6842 - val_accuracy: 0.5481\n",
      "Epoch 7/20\n",
      "8341/8341 [==============================] - 101s 12ms/step - loss: 0.6837 - accuracy: 0.5492 - val_loss: 0.6838 - val_accuracy: 0.5491\n",
      "Epoch 8/20\n",
      "8341/8341 [==============================] - 91s 11ms/step - loss: 0.6834 - accuracy: 0.5497 - val_loss: 0.6836 - val_accuracy: 0.5490\n",
      "Epoch 9/20\n",
      "8341/8341 [==============================] - 98s 12ms/step - loss: 0.6830 - accuracy: 0.5495 - val_loss: 0.6833 - val_accuracy: 0.5494\n",
      "Epoch 10/20\n",
      "8341/8341 [==============================] - 111s 13ms/step - loss: 0.6827 - accuracy: 0.5501 - val_loss: 0.6836 - val_accuracy: 0.5489\n",
      "Epoch 11/20\n",
      "8341/8341 [==============================] - 112s 13ms/step - loss: 0.6822 - accuracy: 0.5517 - val_loss: 0.6835 - val_accuracy: 0.5500\n",
      "Epoch 12/20\n",
      "8341/8341 [==============================] - 108s 13ms/step - loss: 0.6820 - accuracy: 0.5517 - val_loss: 0.6830 - val_accuracy: 0.5495\n",
      "Epoch 13/20\n",
      "8341/8341 [==============================] - 101s 12ms/step - loss: 0.6817 - accuracy: 0.5526 - val_loss: 0.6835 - val_accuracy: 0.5497\n",
      "Epoch 14/20\n",
      "8341/8341 [==============================] - 101s 12ms/step - loss: 0.6812 - accuracy: 0.5533 - val_loss: 0.6837 - val_accuracy: 0.5483\n",
      "Epoch 15/20\n",
      "8341/8341 [==============================] - 106s 13ms/step - loss: 0.6811 - accuracy: 0.5533 - val_loss: 0.6838 - val_accuracy: 0.5489\n",
      "Epoch 16/20\n",
      "8341/8341 [==============================] - 104s 12ms/step - loss: 0.6808 - accuracy: 0.5540 - val_loss: 0.6834 - val_accuracy: 0.5483\n",
      "Epoch 17/20\n",
      "8341/8341 [==============================] - 122s 15ms/step - loss: 0.6805 - accuracy: 0.5546 - val_loss: 0.6838 - val_accuracy: 0.5478\n",
      "Epoch 18/20\n",
      "8341/8341 [==============================] - 128s 15ms/step - loss: 0.6802 - accuracy: 0.5554 - val_loss: 0.6833 - val_accuracy: 0.5502\n",
      "Epoch 19/20\n",
      "8341/8341 [==============================] - 104s 12ms/step - loss: 0.6798 - accuracy: 0.5563 - val_loss: 0.6837 - val_accuracy: 0.5500\n",
      "Epoch 20/20\n",
      "8341/8341 [==============================] - 112s 13ms/step - loss: 0.6794 - accuracy: 0.5567 - val_loss: 0.6834 - val_accuracy: 0.5489\n"
     ]
    }
   ],
   "source": [
    "import keras\n",
    "\n",
    "# Fitting into data training and data validation\n",
    "early_stop = keras.callbacks.EarlyStopping(monitor = 'val_loss', patience = 10)\n",
    "\n",
    "batch_size = 64\n",
    "epoch = 20\n",
    "pred = modelGRU.fit(X_train, y_train, validation_split = 0.2, batch_size=batch_size, epochs=epoch, callbacks = [early_stop], shuffle=True)"
   ]
  },
  {
   "cell_type": "code",
   "execution_count": 17,
   "metadata": {},
   "outputs": [
    {
     "name": "stdout",
     "output_type": "stream",
     "text": [
      "0.4847478396619717\n"
     ]
    }
   ],
   "source": [
    "print(np.count_nonzero(y)/len(y))"
   ]
  },
  {
   "cell_type": "code",
   "execution_count": 18,
   "metadata": {},
   "outputs": [
    {
     "name": "stdout",
     "output_type": "stream",
     "text": [
      "[0.6828877329826355, 0.5503798127174377]\n"
     ]
    }
   ],
   "source": [
    "scores = modelGRU.evaluate(X_test, y_test, verbose=0)\n",
    "print(scores)"
   ]
  },
  {
   "cell_type": "code",
   "execution_count": 19,
   "metadata": {},
   "outputs": [
    {
     "name": "stdout",
     "output_type": "stream",
     "text": [
      "0.4403218167538953\n"
     ]
    }
   ],
   "source": [
    "predictions = modelGRU.predict(X_test)\n",
    "preds = np.where(predictions > 0.5, 1, 0)\n",
    "print(np.count_nonzero(preds)/len(predictions))"
   ]
  },
  {
   "cell_type": "code",
   "execution_count": 20,
   "metadata": {},
   "outputs": [
    {
     "data": {
      "image/png": "[encoded data removed]",
      "text/plain": [
       "<Figure size 720x288 with 1 Axes>"
      ]
     },
     "metadata": {},
     "output_type": "display_data"
    }
   ],
   "source": [
    "fig = plt.figure(figsize=(10, 4))\n",
    "plt.plot(pred.history['loss'], label='train loss')\n",
    "plt.plot(pred.history['val_loss'], label='val loss')\n",
    "plt.title('model loss')\n",
    "plt.ylabel('loss')\n",
    "plt.xlabel('epoch')\n",
    "plt.legend(loc='upper right')\n",
    "plt.show()"
   ]
  },
  {
   "cell_type": "code",
   "execution_count": 135,
   "metadata": {},
   "outputs": [],
   "source": [
    "def get_sarima_mape(df, coin):\n",
    "    # coin_df = df\n",
    "    coin_df = df.drop(df[df.index.hour != 0].index)\n",
    "    coin_df.drop(coin_df[coin_df[coin + \"_pred\"].isna() != 0].index, inplace=True)\n",
    "    mape = mean_absolute_percentage_error(y_true = coin_df[coin], \n",
    "                                      y_pred = coin_df[coin + \"_pred\"])\n",
    "    # print('Mape for ', coin, ': ', mape)\n",
    "    return mape"
   ]
  },
  {
   "cell_type": "code",
   "execution_count": 136,
   "metadata": {},
   "outputs": [],
   "source": [
    "mape = {}\n",
    "for coin in tracked_coins:\n",
    "    mape_coin = get_sarima_mape(df, coin)\n",
    "    mape[coin] = mape_coin"
   ]
  },
  {
   "cell_type": "code",
   "execution_count": 137,
   "metadata": {},
   "outputs": [
    {
     "name": "stdout",
     "output_type": "stream",
     "text": [
      "0.014715068192098894\n"
     ]
    }
   ],
   "source": [
    "import statistics\n",
    "sarima_mape = [x[-1] for x in mape.items()]\n",
    "average_mape = statistics.fmean(sarima_mape)\n",
    "print(average_mape)"
   ]
  },
  {
   "cell_type": "code",
   "execution_count": 138,
   "metadata": {},
   "outputs": [],
   "source": [
    "for coin in tracked_coins:\n",
    "\n",
    "    df[coin + \"_close_log_diff\"] = np.log(df[coin]).diff(1)\n",
    "\n",
    "    df[coin + \"_20_SMA\"] = df[coin + \"_close_log_diff\"].shift(1).rolling(window = 500, min_periods = 1).mean()\n",
    "    df[coin + \"_SMA_preds_exp\"] = np.exp(df[coin + \"_20_SMA\"].values)\n",
    "    df[coin + \"_SMA_preds\"] = df[coin + \"_SMA_preds_exp\"] * df[coin + \"_1\"]"
   ]
  },
  {
   "cell_type": "code",
   "execution_count": 142,
   "metadata": {},
   "outputs": [],
   "source": [
    "def get_SMA_mape(df, coin):\n",
    "    # coin_df = df\n",
    "    coin_df = df.drop(df[df.index.hour != 0].index)\n",
    "    coin_df.drop(coin_df[coin_df[coin + \"_SMA_preds\"].isna() != 0].index, inplace=True)\n",
    "    mape = mean_absolute_percentage_error(y_true = coin_df[coin], \n",
    "                                      y_pred = coin_df[coin + \"_SMA_preds\"])\n",
    "    # print('Mape for ', coin, ': ', mape)\n",
    "    return mape"
   ]
  },
  {
   "cell_type": "code",
   "execution_count": 143,
   "metadata": {},
   "outputs": [
    {
     "name": "stdout",
     "output_type": "stream",
     "text": [
      "0.01449524146038071\n"
     ]
    }
   ],
   "source": [
    "SMA_mape = {}\n",
    "for coin in tracked_coins:\n",
    "    SMA_mape_coin = get_SMA_mape(df, coin)\n",
    "    SMA_mape[coin] = SMA_mape_coin\n",
    "SMA_mape = [x[-1] for x in SMA_mape.items()]\n",
    "average_SMA_mape = statistics.fmean(SMA_mape)\n",
    "print(average_SMA_mape)"
   ]
  },
  {
   "cell_type": "code",
   "execution_count": 144,
   "metadata": {},
   "outputs": [],
   "source": [
    "def get_lag_mape(df, coin):\n",
    "    # coin_df = df\n",
    "    coin_df = df.drop(df[df.index.hour != 0].index)\n",
    "    coin_df.drop(coin_df[coin_df[coin + \"_1\"].isna() != 0].index, inplace=True)\n",
    "    mape = mean_absolute_percentage_error(y_true = coin_df[coin], \n",
    "                                      y_pred = coin_df[coin + \"_1\"])\n",
    "    # print('Mape for ', coin, ': ', mape)\n",
    "    return mape"
   ]
  },
  {
   "cell_type": "code",
   "execution_count": 145,
   "metadata": {},
   "outputs": [
    {
     "name": "stdout",
     "output_type": "stream",
     "text": [
      "0.014436160032555745\n"
     ]
    }
   ],
   "source": [
    "lag_mape = {}\n",
    "for coin in tracked_coins:\n",
    "    lag_mape_coin = get_lag_mape(df, coin)\n",
    "    lag_mape[coin] = lag_mape_coin\n",
    "lag_mape = [x[-1] for x in lag_mape.items()]\n",
    "average_lag_mape = statistics.fmean(lag_mape)\n",
    "print(average_lag_mape)"
   ]
  },
  {
   "cell_type": "code",
   "execution_count": 146,
   "metadata": {},
   "outputs": [],
   "source": [
    "from sklearn.metrics import accuracy_score\n",
    "\n",
    "def calculate_signal_accuracy(price_lag, close_price, prediction):\n",
    "\n",
    "    delta_real = close_price - price_lag\n",
    "    delta_prediction = prediction - price_lag\n",
    "\n",
    "    signal_real = np.where(delta_real > 0, 1, 0)\n",
    "    signal_prediction = np.where(delta_prediction > 0, 1, 0)\n",
    "    accuracy = accuracy_score(signal_real, signal_prediction)\n",
    "\n",
    "    return accuracy"
   ]
  },
  {
   "cell_type": "code",
   "execution_count": 147,
   "metadata": {},
   "outputs": [
    {
     "data": {
      "text/html": [
       "<div>\n",
       "<style scoped>\n",
       "    .dataframe tbody tr th:only-of-type {\n",
       "        vertical-align: middle;\n",
       "    }\n",
       "\n",
       "    .dataframe tbody tr th {\n",
       "        vertical-align: top;\n",
       "    }\n",
       "\n",
       "    .dataframe thead th {\n",
       "        text-align: right;\n",
       "    }\n",
       "</style>\n",
       "<table border=\"1\" class=\"dataframe\">\n",
       "  <thead>\n",
       "    <tr style=\"text-align: right;\">\n",
       "      <th></th>\n",
       "      <th>DCR</th>\n",
       "      <th>CTSI</th>\n",
       "      <th>BTC</th>\n",
       "      <th>FTM</th>\n",
       "      <th>TRB</th>\n",
       "      <th>MANA</th>\n",
       "      <th>BAT</th>\n",
       "      <th>GXS</th>\n",
       "      <th>STORM</th>\n",
       "      <th>OMG</th>\n",
       "      <th>...</th>\n",
       "      <th>XEM_SMA_preds_exp</th>\n",
       "      <th>XEM_SMA_preds</th>\n",
       "      <th>KNC_close_log_diff</th>\n",
       "      <th>KNC_20_SMA</th>\n",
       "      <th>KNC_SMA_preds_exp</th>\n",
       "      <th>KNC_SMA_preds</th>\n",
       "      <th>LRC_close_log_diff</th>\n",
       "      <th>LRC_20_SMA</th>\n",
       "      <th>LRC_SMA_preds_exp</th>\n",
       "      <th>LRC_SMA_preds</th>\n",
       "    </tr>\n",
       "    <tr>\n",
       "      <th>Time</th>\n",
       "      <th></th>\n",
       "      <th></th>\n",
       "      <th></th>\n",
       "      <th></th>\n",
       "      <th></th>\n",
       "      <th></th>\n",
       "      <th></th>\n",
       "      <th></th>\n",
       "      <th></th>\n",
       "      <th></th>\n",
       "      <th></th>\n",
       "      <th></th>\n",
       "      <th></th>\n",
       "      <th></th>\n",
       "      <th></th>\n",
       "      <th></th>\n",
       "      <th></th>\n",
       "      <th></th>\n",
       "      <th></th>\n",
       "      <th></th>\n",
       "      <th></th>\n",
       "    </tr>\n",
       "  </thead>\n",
       "  <tbody>\n",
       "    <tr>\n",
       "      <th>2019-07-01 01:00:00</th>\n",
       "      <td>30.62</td>\n",
       "      <td>NaN</td>\n",
       "      <td>10898.54</td>\n",
       "      <td>0.02711</td>\n",
       "      <td>NaN</td>\n",
       "      <td>0.05071</td>\n",
       "      <td>0.3239</td>\n",
       "      <td>2.093</td>\n",
       "      <td>0.002763</td>\n",
       "      <td>2.514</td>\n",
       "      <td>...</td>\n",
       "      <td>NaN</td>\n",
       "      <td>NaN</td>\n",
       "      <td>NaN</td>\n",
       "      <td>NaN</td>\n",
       "      <td>NaN</td>\n",
       "      <td>NaN</td>\n",
       "      <td>NaN</td>\n",
       "      <td>NaN</td>\n",
       "      <td>NaN</td>\n",
       "      <td>NaN</td>\n",
       "    </tr>\n",
       "    <tr>\n",
       "      <th>2019-07-01 02:00:00</th>\n",
       "      <td>31.10</td>\n",
       "      <td>NaN</td>\n",
       "      <td>10999.70</td>\n",
       "      <td>0.02751</td>\n",
       "      <td>NaN</td>\n",
       "      <td>0.04994</td>\n",
       "      <td>0.3155</td>\n",
       "      <td>2.197</td>\n",
       "      <td>0.002851</td>\n",
       "      <td>2.541</td>\n",
       "      <td>...</td>\n",
       "      <td>NaN</td>\n",
       "      <td>NaN</td>\n",
       "      <td>0.003571</td>\n",
       "      <td>NaN</td>\n",
       "      <td>NaN</td>\n",
       "      <td>NaN</td>\n",
       "      <td>0.007667</td>\n",
       "      <td>NaN</td>\n",
       "      <td>NaN</td>\n",
       "      <td>NaN</td>\n",
       "    </tr>\n",
       "    <tr>\n",
       "      <th>2019-07-01 03:00:00</th>\n",
       "      <td>31.28</td>\n",
       "      <td>NaN</td>\n",
       "      <td>11085.91</td>\n",
       "      <td>0.02704</td>\n",
       "      <td>NaN</td>\n",
       "      <td>0.05379</td>\n",
       "      <td>0.3311</td>\n",
       "      <td>2.134</td>\n",
       "      <td>0.002935</td>\n",
       "      <td>2.575</td>\n",
       "      <td>...</td>\n",
       "      <td>1.005813</td>\n",
       "      <td>0.092233</td>\n",
       "      <td>0.009460</td>\n",
       "      <td>0.003571</td>\n",
       "      <td>1.003577</td>\n",
       "      <td>0.253403</td>\n",
       "      <td>0.004536</td>\n",
       "      <td>0.007667</td>\n",
       "      <td>1.007697</td>\n",
       "      <td>0.055413</td>\n",
       "    </tr>\n",
       "    <tr>\n",
       "      <th>2019-07-01 04:00:00</th>\n",
       "      <td>31.25</td>\n",
       "      <td>NaN</td>\n",
       "      <td>11086.59</td>\n",
       "      <td>0.02757</td>\n",
       "      <td>NaN</td>\n",
       "      <td>0.04949</td>\n",
       "      <td>0.3305</td>\n",
       "      <td>2.125</td>\n",
       "      <td>0.002827</td>\n",
       "      <td>2.557</td>\n",
       "      <td>...</td>\n",
       "      <td>1.003285</td>\n",
       "      <td>0.092071</td>\n",
       "      <td>0.000784</td>\n",
       "      <td>0.006515</td>\n",
       "      <td>1.006537</td>\n",
       "      <td>0.256566</td>\n",
       "      <td>0.020427</td>\n",
       "      <td>0.006102</td>\n",
       "      <td>1.006120</td>\n",
       "      <td>0.055578</td>\n",
       "    </tr>\n",
       "    <tr>\n",
       "      <th>2019-07-01 05:00:00</th>\n",
       "      <td>31.16</td>\n",
       "      <td>NaN</td>\n",
       "      <td>11013.00</td>\n",
       "      <td>0.02739</td>\n",
       "      <td>NaN</td>\n",
       "      <td>0.04945</td>\n",
       "      <td>0.3247</td>\n",
       "      <td>2.120</td>\n",
       "      <td>0.002802</td>\n",
       "      <td>2.516</td>\n",
       "      <td>...</td>\n",
       "      <td>1.009740</td>\n",
       "      <td>0.094774</td>\n",
       "      <td>-0.007476</td>\n",
       "      <td>0.004605</td>\n",
       "      <td>1.004616</td>\n",
       "      <td>0.256277</td>\n",
       "      <td>-0.010878</td>\n",
       "      <td>0.010877</td>\n",
       "      <td>1.010936</td>\n",
       "      <td>0.056997</td>\n",
       "    </tr>\n",
       "  </tbody>\n",
       "</table>\n",
       "<p>5 rows × 1278 columns</p>\n",
       "</div>"
      ],
      "text/plain": [
       "                       DCR  CTSI       BTC      FTM  TRB     MANA     BAT  \\\n",
       "Time                                                                        \n",
       "2019-07-01 01:00:00  30.62   NaN  10898.54  0.02711  NaN  0.05071  0.3239   \n",
       "2019-07-01 02:00:00  31.10   NaN  10999.70  0.02751  NaN  0.04994  0.3155   \n",
       "2019-07-01 03:00:00  31.28   NaN  11085.91  0.02704  NaN  0.05379  0.3311   \n",
       "2019-07-01 04:00:00  31.25   NaN  11086.59  0.02757  NaN  0.04949  0.3305   \n",
       "2019-07-01 05:00:00  31.16   NaN  11013.00  0.02739  NaN  0.04945  0.3247   \n",
       "\n",
       "                       GXS     STORM    OMG  ...  XEM_SMA_preds_exp  \\\n",
       "Time                                         ...                      \n",
       "2019-07-01 01:00:00  2.093  0.002763  2.514  ...                NaN   \n",
       "2019-07-01 02:00:00  2.197  0.002851  2.541  ...                NaN   \n",
       "2019-07-01 03:00:00  2.134  0.002935  2.575  ...           1.005813   \n",
       "2019-07-01 04:00:00  2.125  0.002827  2.557  ...           1.003285   \n",
       "2019-07-01 05:00:00  2.120  0.002802  2.516  ...           1.009740   \n",
       "\n",
       "                     XEM_SMA_preds  KNC_close_log_diff  KNC_20_SMA  \\\n",
       "Time                                                                 \n",
       "2019-07-01 01:00:00            NaN                 NaN         NaN   \n",
       "2019-07-01 02:00:00            NaN            0.003571         NaN   \n",
       "2019-07-01 03:00:00       0.092233            0.009460    0.003571   \n",
       "2019-07-01 04:00:00       0.092071            0.000784    0.006515   \n",
       "2019-07-01 05:00:00       0.094774           -0.007476    0.004605   \n",
       "\n",
       "                     KNC_SMA_preds_exp  KNC_SMA_preds  LRC_close_log_diff  \\\n",
       "Time                                                                        \n",
       "2019-07-01 01:00:00                NaN            NaN                 NaN   \n",
       "2019-07-01 02:00:00                NaN            NaN            0.007667   \n",
       "2019-07-01 03:00:00           1.003577       0.253403            0.004536   \n",
       "2019-07-01 04:00:00           1.006537       0.256566            0.020427   \n",
       "2019-07-01 05:00:00           1.004616       0.256277           -0.010878   \n",
       "\n",
       "                     LRC_20_SMA  LRC_SMA_preds_exp  LRC_SMA_preds  \n",
       "Time                                                               \n",
       "2019-07-01 01:00:00         NaN                NaN            NaN  \n",
       "2019-07-01 02:00:00         NaN                NaN            NaN  \n",
       "2019-07-01 03:00:00    0.007667           1.007697       0.055413  \n",
       "2019-07-01 04:00:00    0.006102           1.006120       0.055578  \n",
       "2019-07-01 05:00:00    0.010877           1.010936       0.056997  \n",
       "\n",
       "[5 rows x 1278 columns]"
      ]
     },
     "execution_count": 147,
     "metadata": {},
     "output_type": "execute_result"
    }
   ],
   "source": [
    "df.head()"
   ]
  },
  {
   "cell_type": "code",
   "execution_count": 152,
   "metadata": {},
   "outputs": [],
   "source": [
    "total_accuracy_lag = []\n",
    "total_accuracy_SMA = []\n",
    "total_accuracy_SARIMAX = []\n",
    "df_accuracy = pd.DataFrame(columns=[\"accuracy_lag\", \"accuracy_SMA\", \"accuracy_SARIMAX\",\"starting_on\"], index=tracked_coins)\n",
    "\n",
    "for coin in tracked_coins:\n",
    "\n",
    "    coin_df = df.copy()\n",
    "\n",
    "    coin_df.drop(coin_df[coin_df.index.hour != 0].index, inplace=True)\n",
    "    coin_df.drop(coin_df[coin_df[coin + \"_pred\"].isna() != 0].index, inplace=True)\n",
    "\n",
    "    accuracy_lag = calculate_signal_accuracy(coin_df[coin + \"_1\"], coin_df[coin], coin_df[coin + \"_1\"])\n",
    "    accuracy_SMA = calculate_signal_accuracy(coin_df[coin + \"_1\"], coin_df[coin], coin_df[coin + \"_SMA_preds\"])\n",
    "    accuracy_SARIMAX = calculate_signal_accuracy(coin_df[coin + \"_1\"], coin_df[coin], coin_df[coin + \"_pred\"])\n",
    "\n",
    "    total_accuracy_lag.append(accuracy_lag)\n",
    "    total_accuracy_SMA.append(accuracy_SMA)\n",
    "    total_accuracy_SARIMAX.append(accuracy_SARIMAX)\n",
    "\n",
    "    df_accuracy[\"accuracy_lag\"][coin] = accuracy_lag\n",
    "    df_accuracy[\"accuracy_SMA\"][coin] = accuracy_SMA\n",
    "    df_accuracy[\"accuracy_SARIMAX\"][coin] = accuracy_SARIMAX\n",
    "    df_accuracy[\"starting_on\"][coin] = coin_df.index[0]\n",
    "\n",
    "df_accuracy.to_csv('accuracy_scores.csv', sep=\";\", encoding=\"UTF-8\")"
   ]
  },
  {
   "cell_type": "code",
   "execution_count": 153,
   "metadata": {},
   "outputs": [
    {
     "name": "stdout",
     "output_type": "stream",
     "text": [
      "Toal accuracy based on lag prediction:  52.82260199426096 %\n",
      "Signal accuracy based on moving average prediction:  49.21690422948008 %\n",
      "Signal accuracy based on SARIMAX prediction:  51.17182633042287 %\n"
     ]
    }
   ],
   "source": [
    "print('Toal accuracy based on lag prediction: ', 100*statistics.fmean(total_accuracy_lag),'%')\n",
    "print('Signal accuracy based on moving average prediction: ', 100*statistics.fmean(total_accuracy_SMA),'%')\n",
    "print('Signal accuracy based on SARIMAX prediction: ', 100*statistics.fmean(total_accuracy_SARIMAX),'%')"
   ]
  },
  {
   "cell_type": "code",
   "execution_count": null,
   "metadata": {},
   "outputs": [],
   "source": []
  }
 ],
 "metadata": {
  "kernelspec": {
   "display_name": "Python 3",
   "language": "python",
   "name": "python3"
  },
  "language_info": {
   "codemirror_mode": {
    "name": "ipython",
    "version": 3
   },
   "file_extension": ".py",
   "mimetype": "text/x-python",
   "name": "python",
   "nbconvert_exporter": "python",
   "pygments_lexer": "ipython3",
   "version": "3.9.10"
  },
  "latex_envs": {
   "LaTeX_envs_menu_present": true,
   "autoclose": false,
   "autocomplete": true,
   "bibliofile": "biblio.bib",
   "cite_by": "apalike",
   "current_citInitial": 1,
   "eqLabelWithNumbers": true,
   "eqNumInitial": 1,
   "hotkeys": {
    "equation": "Ctrl-E",
    "itemize": "Ctrl-I"
   },
   "labels_anchors": false,
   "latex_user_defs": false,
   "report_style_numbering": false,
   "user_envs_cfg": false
  },
  "toc": {
   "base_numbering": 1,
   "nav_menu": {},
   "number_sections": true,
   "sideBar": true,
   "skip_h1_title": false,
   "title_cell": "Table of Contents",
   "title_sidebar": "Contents",
   "toc_cell": true,
   "toc_position": {},
   "toc_section_display": true,
   "toc_window_display": true
  }
 },
 "nbformat": 4,
 "nbformat_minor": 4
}
